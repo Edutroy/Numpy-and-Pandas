{
  "nbformat": 4,
  "nbformat_minor": 0,
  "metadata": {
    "colab": {
      "provenance": [],
      "toc_visible": true,
      "authorship_tag": "ABX9TyM8GwdNH8/dDoWZANJkUtEO",
      "include_colab_link": true
    },
    "kernelspec": {
      "name": "python3",
      "display_name": "Python 3"
    },
    "language_info": {
      "name": "python"
    }
  },
  "cells": [
    {
      "cell_type": "markdown",
      "metadata": {
        "id": "view-in-github",
        "colab_type": "text"
      },
      "source": [
        "<a href=\"https://colab.research.google.com/github/Edutroy/Numpy-and-Pandas/blob/main/NumpyII.ipynb\" target=\"_parent\"><img src=\"https://colab.research.google.com/assets/colab-badge.svg\" alt=\"Open In Colab\"/></a>"
      ]
    },
    {
      "cell_type": "markdown",
      "source": [],
      "metadata": {
        "id": "6wN70YtFG9ZT"
      }
    },
    {
      "cell_type": "markdown",
      "source": [
        "# **Inicio con NumPy**\n",
        "\n"
      ],
      "metadata": {
        "id": "GwjsgYArHAIn"
      }
    },
    {
      "cell_type": "code",
      "source": [
        "import numpy as np\n",
        "\n",
        "\n",
        "#generate some random data\n",
        "data=np.random.randn(2,3)\n",
        "print('Array random :')\n",
        "data\n"
      ],
      "metadata": {
        "colab": {
          "base_uri": "https://localhost:8080/"
        },
        "id": "2N2mv-PNIeAu",
        "outputId": "8e8a95f2-2967-4f82-d9b1-09faaa278765"
      },
      "execution_count": null,
      "outputs": [
        {
          "output_type": "stream",
          "name": "stdout",
          "text": [
            "Array random :\n"
          ]
        },
        {
          "output_type": "execute_result",
          "data": {
            "text/plain": [
              "array([[-0.00402115,  0.63582559,  0.31551742],\n",
              "       [ 2.08655849, -0.29357103,  0.89292038]])"
            ]
          },
          "metadata": {},
          "execution_count": 5
        }
      ]
    },
    {
      "cell_type": "code",
      "source": [
        "#amth operation with arrays\n",
        "data*10"
      ],
      "metadata": {
        "colab": {
          "base_uri": "https://localhost:8080/"
        },
        "id": "TgSxKetULY2_",
        "outputId": "d031c484-b19e-4cce-a387-c0ca79b09b1b"
      },
      "execution_count": null,
      "outputs": [
        {
          "output_type": "execute_result",
          "data": {
            "text/plain": [
              "array([[-0.04021154,  6.3582559 ,  3.1551742 ],\n",
              "       [20.86558489, -2.93571029,  8.92920379]])"
            ]
          },
          "metadata": {},
          "execution_count": 6
        }
      ]
    },
    {
      "cell_type": "markdown",
      "source": [
        "\n",
        "\n",
        "> Creating arrays\n",
        "\n"
      ],
      "metadata": {
        "id": "Vghr6ROAPatN"
      }
    },
    {
      "cell_type": "code",
      "source": [
        "lista =[1,2,3,4,5,6,7,8,9]\n",
        "lista\n",
        "arr = np.array(lista)\n",
        "arr\n",
        "type(arr)"
      ],
      "metadata": {
        "colab": {
          "base_uri": "https://localhost:8080/"
        },
        "id": "QfjnfiWRK-uf",
        "outputId": "52c7628f-46fc-4750-9277-b816c0525211"
      },
      "execution_count": null,
      "outputs": [
        {
          "output_type": "execute_result",
          "data": {
            "text/plain": [
              "numpy.ndarray"
            ]
          },
          "metadata": {},
          "execution_count": 20
        }
      ]
    },
    {
      "cell_type": "code",
      "source": [
        "data =[[1,2,3,4], [5,6,7,8]]\n",
        "arr2=np.array(data)\n",
        "arr2\n"
      ],
      "metadata": {
        "colab": {
          "base_uri": "https://localhost:8080/"
        },
        "id": "mN5funO3Thqb",
        "outputId": "2226a068-4c88-4e4a-e96b-6453d31d58c2"
      },
      "execution_count": null,
      "outputs": [
        {
          "output_type": "execute_result",
          "data": {
            "text/plain": [
              "array([[1, 2, 3, 4],\n",
              "       [5, 6, 7, 8]])"
            ]
          },
          "metadata": {},
          "execution_count": 36
        }
      ]
    },
    {
      "cell_type": "code",
      "source": [
        "data2 =[[[1,2,3,4], [5,6,7,8]] ,[[10,11,12,13], [14,15,16,17]]]\n",
        "arr3=np.array(data2)\n",
        "arr3\n"
      ],
      "metadata": {
        "colab": {
          "base_uri": "https://localhost:8080/"
        },
        "outputId": "e117fabe-b4aa-4ad0-da74-48218defc5be",
        "id": "TGErQjVfUWQG"
      },
      "execution_count": null,
      "outputs": [
        {
          "output_type": "execute_result",
          "data": {
            "text/plain": [
              "array([[[ 1,  2,  3,  4],\n",
              "        [ 5,  6,  7,  8]],\n",
              "\n",
              "       [[10, 11, 12, 13],\n",
              "        [14, 15, 16, 17]]])"
            ]
          },
          "metadata": {},
          "execution_count": 40
        }
      ]
    },
    {
      "cell_type": "markdown",
      "source": [
        "while array_name.dim we see:\n",
        "\n",
        "*(number of dimensions)*"
      ],
      "metadata": {
        "id": "HiEGa6vYTh5T"
      }
    },
    {
      "cell_type": "code",
      "source": [
        "print(arr2.ndim)\n",
        "arr3.ndim"
      ],
      "metadata": {
        "colab": {
          "base_uri": "https://localhost:8080/"
        },
        "id": "il1t2abaT39l",
        "outputId": "fbce561f-f188-4ab5-dba4-cad4f1cc933d"
      },
      "execution_count": null,
      "outputs": [
        {
          "output_type": "stream",
          "name": "stdout",
          "text": [
            "2\n"
          ]
        },
        {
          "output_type": "execute_result",
          "data": {
            "text/plain": [
              "3"
            ]
          },
          "metadata": {},
          "execution_count": 41
        }
      ]
    },
    {
      "cell_type": "markdown",
      "source": [
        "We see this with array-name.shape:\n",
        "\n",
        "*(row, colums)*\n",
        "\n"
      ],
      "metadata": {
        "id": "L4oaJiPTP3QD"
      }
    },
    {
      "cell_type": "code",
      "source": [
        "print(arr2.shape)\n",
        "arr3.shape"
      ],
      "metadata": {
        "colab": {
          "base_uri": "https://localhost:8080/"
        },
        "outputId": "febc56ef-8694-4425-c858-d33f895a4622",
        "id": "BlF2IgPfUoVu"
      },
      "execution_count": null,
      "outputs": [
        {
          "output_type": "stream",
          "name": "stdout",
          "text": [
            "(2, 4)\n"
          ]
        },
        {
          "output_type": "execute_result",
          "data": {
            "text/plain": [
              "(2, 2, 4)"
            ]
          },
          "metadata": {},
          "execution_count": 42
        }
      ]
    },
    {
      "cell_type": "markdown",
      "source": [
        ">Indexing"
      ],
      "metadata": {
        "id": "xsQ6UYTBfIls"
      }
    },
    {
      "cell_type": "code",
      "source": [
        "names =np.array()"
      ],
      "metadata": {
        "id": "9_ubeUzTfWor"
      },
      "execution_count": null,
      "outputs": []
    },
    {
      "cell_type": "markdown",
      "source": [
        "> Agreganndo y Eliminando dimensiones\n",
        "\n"
      ],
      "metadata": {
        "id": "8mOmRQEOVqo0"
      }
    },
    {
      "cell_type": "code",
      "source": [
        "vector = np.array([1, 2, 3,5,6,7], ndmin = 10)\n",
        "print(vector) \n",
        "vector.ndim "
      ],
      "metadata": {
        "colab": {
          "base_uri": "https://localhost:8080/"
        },
        "id": "u2HsmXROV9x8",
        "outputId": "a0bd863d-09fd-48d6-ceb0-d68735502c28"
      },
      "execution_count": null,
      "outputs": [
        {
          "output_type": "stream",
          "name": "stdout",
          "text": [
            "[[[[[[[[[[1 2 3 5 6 7]]]]]]]]]]\n"
          ]
        },
        {
          "output_type": "execute_result",
          "data": {
            "text/plain": [
              "10"
            ]
          },
          "metadata": {},
          "execution_count": 28
        }
      ]
    },
    {
      "cell_type": "code",
      "source": [
        "test=np.array([1, 2, 3])\n",
        "print(test)\n",
        "print(test.ndim) \n",
        "print(test.shape)\n",
        "print('################')\n",
        "expand = np.expand_dims( test , axis = 1)\n",
        "print(expand)\n",
        "print(expand.ndim) \n",
        "expand.shape"
      ],
      "metadata": {
        "colab": {
          "base_uri": "https://localhost:8080/"
        },
        "id": "WVRZnf-bYSbU",
        "outputId": "534e7233-b889-476d-a6ec-21f5dc0396d9"
      },
      "execution_count": null,
      "outputs": [
        {
          "output_type": "stream",
          "name": "stdout",
          "text": [
            "[1 2 3]\n",
            "1\n",
            "(3,)\n",
            "################\n",
            "[[1]\n",
            " [2]\n",
            " [3]]\n",
            "2\n"
          ]
        },
        {
          "output_type": "execute_result",
          "data": {
            "text/plain": [
              "(3, 1)"
            ]
          },
          "metadata": {},
          "execution_count": 39
        }
      ]
    },
    {
      "cell_type": "code",
      "source": [
        "print(vector, vector.ndim) \n",
        "vector_2 = np.squeeze(vector)#Elimina las dimesiones que no se utilizan\n",
        "print(vector_2, vector_2.ndim)"
      ],
      "metadata": {
        "colab": {
          "base_uri": "https://localhost:8080/"
        },
        "id": "K-jeD7FRczFi",
        "outputId": "192a56b8-2137-494e-b798-473279eabbea"
      },
      "execution_count": null,
      "outputs": [
        {
          "output_type": "stream",
          "name": "stdout",
          "text": [
            "[[[[[[[[[[1 2 3 5 6 7]]]]]]]]]] 10\n",
            "[1 2 3 5 6 7] 1\n"
          ]
        }
      ]
    }
  ]
}