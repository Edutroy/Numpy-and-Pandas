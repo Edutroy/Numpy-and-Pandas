{
  "nbformat": 4,
  "nbformat_minor": 0,
  "metadata": {
    "colab": {
      "provenance": [],
      "toc_visible": true,
      "authorship_tag": "ABX9TyP6YBqorYiKd7NtNhBM3FYZ",
      "include_colab_link": true
    },
    "kernelspec": {
      "name": "python3",
      "display_name": "Python 3"
    },
    "language_info": {
      "name": "python"
    }
  },
  "cells": [
    {
      "cell_type": "markdown",
      "metadata": {
        "id": "view-in-github",
        "colab_type": "text"
      },
      "source": [
        "<a href=\"https://colab.research.google.com/github/Edutroy/Numpy-and-Pandas/blob/main/NumpyII.ipynb\" target=\"_parent\"><img src=\"https://colab.research.google.com/assets/colab-badge.svg\" alt=\"Open In Colab\"/></a>"
      ]
    },
    {
      "cell_type": "markdown",
      "source": [
        "# **Inicio con NumPy**\n",
        "\n"
      ],
      "metadata": {
        "id": "GwjsgYArHAIn"
      }
    },
    {
      "cell_type": "code",
      "source": [
        "import numpy as np\n",
        "\n",
        "\n",
        "#generate some random data\n",
        "data=np.random.randn(3,3,2)\n",
        "print('Array random :')\n",
        "data\n"
      ],
      "metadata": {
        "colab": {
          "base_uri": "https://localhost:8080/"
        },
        "id": "2N2mv-PNIeAu",
        "outputId": "ca376532-5f62-44e2-8f11-7487728046b4"
      },
      "execution_count": 1,
      "outputs": [
        {
          "output_type": "stream",
          "name": "stdout",
          "text": [
            "Array random :\n"
          ]
        },
        {
          "output_type": "execute_result",
          "data": {
            "text/plain": [
              "array([[[-0.56401124, -0.87747484],\n",
              "        [ 2.14884474, -1.06826199],\n",
              "        [-0.54231663,  0.26650691]],\n",
              "\n",
              "       [[ 0.76298825, -1.63898292],\n",
              "        [-0.36391812, -1.0467189 ],\n",
              "        [-0.14463764,  2.33902979]],\n",
              "\n",
              "       [[ 0.37358671,  0.9398292 ],\n",
              "        [-0.61824345,  1.01750594],\n",
              "        [ 0.2939203 ,  1.70226091]]])"
            ]
          },
          "metadata": {},
          "execution_count": 1
        }
      ]
    },
    {
      "cell_type": "code",
      "source": [
        "#amth operation with arrays\n",
        "data*10"
      ],
      "metadata": {
        "colab": {
          "base_uri": "https://localhost:8080/"
        },
        "id": "TgSxKetULY2_",
        "outputId": "e4f1c62b-17df-417e-8fb7-9405b5781326"
      },
      "execution_count": 2,
      "outputs": [
        {
          "output_type": "execute_result",
          "data": {
            "text/plain": [
              "array([[[ -5.64011239,  -8.77474844],\n",
              "        [ 21.48844743, -10.68261988],\n",
              "        [ -5.42316632,   2.66506914]],\n",
              "\n",
              "       [[  7.62988255, -16.38982916],\n",
              "        [ -3.63918115, -10.46718904],\n",
              "        [ -1.44637645,  23.39029788]],\n",
              "\n",
              "       [[  3.73586706,   9.39829204],\n",
              "        [ -6.18243449,  10.17505939],\n",
              "        [  2.93920295,  17.02260912]]])"
            ]
          },
          "metadata": {},
          "execution_count": 2
        }
      ]
    },
    {
      "cell_type": "markdown",
      "source": [
        "\n",
        "\n",
        "> Creating arrays\n",
        "\n"
      ],
      "metadata": {
        "id": "Vghr6ROAPatN"
      }
    },
    {
      "cell_type": "code",
      "source": [
        "lista =[1,2,3,4,5,6,7,8,9]\n",
        "lista\n",
        "arr = np.array(lista)\n",
        "arr\n",
        "type(arr)"
      ],
      "metadata": {
        "colab": {
          "base_uri": "https://localhost:8080/"
        },
        "id": "QfjnfiWRK-uf",
        "outputId": "4c449fa3-be86-45a6-a1dc-c6cc74bfe4cd"
      },
      "execution_count": 3,
      "outputs": [
        {
          "output_type": "execute_result",
          "data": {
            "text/plain": [
              "numpy.ndarray"
            ]
          },
          "metadata": {},
          "execution_count": 3
        }
      ]
    },
    {
      "cell_type": "code",
      "source": [
        "data =[[1,2,3,4], [5,6,7,8]]\n",
        "arr2=np.array(data)\n",
        "arr2\n"
      ],
      "metadata": {
        "colab": {
          "base_uri": "https://localhost:8080/"
        },
        "id": "mN5funO3Thqb",
        "outputId": "84e275d7-c1cd-4570-f6b5-9b6bf3c531ac"
      },
      "execution_count": 4,
      "outputs": [
        {
          "output_type": "execute_result",
          "data": {
            "text/plain": [
              "array([[1, 2, 3, 4],\n",
              "       [5, 6, 7, 8]])"
            ]
          },
          "metadata": {},
          "execution_count": 4
        }
      ]
    },
    {
      "cell_type": "code",
      "source": [
        "data2 =[[[1,2,3,4], [5,6,7,8]] ,[[10,11,12,13], [14,15,16,17]]]\n",
        "arr3=np.array(data2)\n",
        "arr3\n"
      ],
      "metadata": {
        "colab": {
          "base_uri": "https://localhost:8080/"
        },
        "outputId": "052d3df3-fcee-43f7-ec1c-d08ddc8526c9",
        "id": "TGErQjVfUWQG"
      },
      "execution_count": 5,
      "outputs": [
        {
          "output_type": "execute_result",
          "data": {
            "text/plain": [
              "array([[[ 1,  2,  3,  4],\n",
              "        [ 5,  6,  7,  8]],\n",
              "\n",
              "       [[10, 11, 12, 13],\n",
              "        [14, 15, 16, 17]]])"
            ]
          },
          "metadata": {},
          "execution_count": 5
        }
      ]
    },
    {
      "cell_type": "markdown",
      "source": [
        "while array_name.dim we see:\n",
        "\n",
        "*(number of dimensions)*"
      ],
      "metadata": {
        "id": "HiEGa6vYTh5T"
      }
    },
    {
      "cell_type": "code",
      "source": [
        "print(arr2.ndim)\n",
        "arr3.ndim"
      ],
      "metadata": {
        "colab": {
          "base_uri": "https://localhost:8080/"
        },
        "id": "il1t2abaT39l",
        "outputId": "e72ab310-5c46-4ea1-9169-34321d1fc59a"
      },
      "execution_count": 6,
      "outputs": [
        {
          "output_type": "stream",
          "name": "stdout",
          "text": [
            "2\n"
          ]
        },
        {
          "output_type": "execute_result",
          "data": {
            "text/plain": [
              "3"
            ]
          },
          "metadata": {},
          "execution_count": 6
        }
      ]
    },
    {
      "cell_type": "markdown",
      "source": [
        "We see this with array-name.shape:\n",
        "\n",
        "*(row, colums)*\n",
        "\n"
      ],
      "metadata": {
        "id": "L4oaJiPTP3QD"
      }
    },
    {
      "cell_type": "code",
      "source": [
        "print(arr2.shape)\n",
        "arr3.shape"
      ],
      "metadata": {
        "colab": {
          "base_uri": "https://localhost:8080/"
        },
        "outputId": "4be1e100-0b12-4c0f-e0c8-9da06d57ca02",
        "id": "BlF2IgPfUoVu"
      },
      "execution_count": 7,
      "outputs": [
        {
          "output_type": "stream",
          "name": "stdout",
          "text": [
            "(2, 4)\n"
          ]
        },
        {
          "output_type": "execute_result",
          "data": {
            "text/plain": [
              "(2, 2, 4)"
            ]
          },
          "metadata": {},
          "execution_count": 7
        }
      ]
    },
    {
      "cell_type": "markdown",
      "source": [
        ">Indexing"
      ],
      "metadata": {
        "id": "xsQ6UYTBfIls"
      }
    },
    {
      "cell_type": "code",
      "source": [
        "names =np.array()"
      ],
      "metadata": {
        "id": "9_ubeUzTfWor"
      },
      "execution_count": 10,
      "outputs": []
    },
    {
      "cell_type": "markdown",
      "source": [
        "> Agreganndo y Eliminando dimensiones\n",
        "\n"
      ],
      "metadata": {
        "id": "8mOmRQEOVqo0"
      }
    },
    {
      "cell_type": "code",
      "source": [
        "vector = np.array([1, 2, 3,5,6,7], ndmin = 10)\n",
        "print(vector) \n",
        "vector.ndim "
      ],
      "metadata": {
        "colab": {
          "base_uri": "https://localhost:8080/"
        },
        "id": "u2HsmXROV9x8",
        "outputId": "ff072d99-3b14-438e-b62c-ae9e13b4fe8f"
      },
      "execution_count": 11,
      "outputs": [
        {
          "output_type": "stream",
          "name": "stdout",
          "text": [
            "[[[[[[[[[[1 2 3 5 6 7]]]]]]]]]]\n"
          ]
        },
        {
          "output_type": "execute_result",
          "data": {
            "text/plain": [
              "10"
            ]
          },
          "metadata": {},
          "execution_count": 11
        }
      ]
    },
    {
      "cell_type": "code",
      "source": [
        "test=np.array([1, 2, 3])\n",
        "print(test)\n",
        "print(test.ndim) \n",
        "print(test.shape)\n",
        "print('################')\n",
        "expand = np.expand_dims( test , axis = 1)\n",
        "print(expand)\n",
        "print(expand.ndim) \n",
        "expand.shape"
      ],
      "metadata": {
        "colab": {
          "base_uri": "https://localhost:8080/"
        },
        "id": "WVRZnf-bYSbU",
        "outputId": "2d0d9ac9-3e58-4d31-9b8b-af41c2c334d1"
      },
      "execution_count": 12,
      "outputs": [
        {
          "output_type": "stream",
          "name": "stdout",
          "text": [
            "[1 2 3]\n",
            "1\n",
            "(3,)\n",
            "################\n",
            "[[1]\n",
            " [2]\n",
            " [3]]\n",
            "2\n"
          ]
        },
        {
          "output_type": "execute_result",
          "data": {
            "text/plain": [
              "(3, 1)"
            ]
          },
          "metadata": {},
          "execution_count": 12
        }
      ]
    },
    {
      "cell_type": "code",
      "source": [
        "print(vector, vector.ndim) \n",
        "vector_2 = np.squeeze(vector)#Elimina las dimesiones que no se utilizan\n",
        "print(vector_2, vector_2.ndim)"
      ],
      "metadata": {
        "colab": {
          "base_uri": "https://localhost:8080/"
        },
        "id": "K-jeD7FRczFi",
        "outputId": "10ca9d67-2c5c-4f34-9d69-b3e70b1f4b9f"
      },
      "execution_count": 13,
      "outputs": [
        {
          "output_type": "stream",
          "name": "stdout",
          "text": [
            "[[[[[[[[[[1 2 3 5 6 7]]]]]]]]]] 10\n",
            "[1 2 3 5 6 7] 1\n"
          ]
        }
      ]
    },
    {
      "cell_type": "markdown",
      "source": [
        "Arrays\n"
      ],
      "metadata": {
        "id": "qsdn43vMaqSf"
      }
    },
    {
      "cell_type": "code",
      "source": [
        "print(np.arange(0,15))#crea un array desde las posionces indicadas\n",
        "np.arange(0,20,2)#los alterna dependiendo la cantiad que queramos"
      ],
      "metadata": {
        "colab": {
          "base_uri": "https://localhost:8080/"
        },
        "id": "tksCXmQpapkt",
        "outputId": "c6e4b82a-b361-451b-821d-308ebc8696d5"
      },
      "execution_count": 14,
      "outputs": [
        {
          "output_type": "stream",
          "name": "stdout",
          "text": [
            "[ 0  1  2  3  4  5  6  7  8  9 10 11 12 13 14]\n"
          ]
        },
        {
          "output_type": "execute_result",
          "data": {
            "text/plain": [
              "array([ 0,  2,  4,  6,  8, 10, 12, 14, 16, 18])"
            ]
          },
          "metadata": {},
          "execution_count": 14
        }
      ]
    },
    {
      "cell_type": "code",
      "source": [
        "print(np.zeros(10))\n",
        "np.ones((5,5))"
      ],
      "metadata": {
        "colab": {
          "base_uri": "https://localhost:8080/"
        },
        "id": "CBv7_XCjbYo4",
        "outputId": "a9998127-6783-43ef-cac8-ed67b5963bcb"
      },
      "execution_count": 15,
      "outputs": [
        {
          "output_type": "stream",
          "name": "stdout",
          "text": [
            "[0. 0. 0. 0. 0. 0. 0. 0. 0. 0.]\n"
          ]
        },
        {
          "output_type": "execute_result",
          "data": {
            "text/plain": [
              "array([[1., 1., 1., 1., 1.],\n",
              "       [1., 1., 1., 1., 1.],\n",
              "       [1., 1., 1., 1., 1.],\n",
              "       [1., 1., 1., 1., 1.],\n",
              "       [1., 1., 1., 1., 1.]])"
            ]
          },
          "metadata": {},
          "execution_count": 15
        }
      ]
    },
    {
      "cell_type": "code",
      "source": [
        "np.eye(5)#crea matriz identidd"
      ],
      "metadata": {
        "colab": {
          "base_uri": "https://localhost:8080/"
        },
        "id": "OBHVFTqNbqtc",
        "outputId": "3ebd2f99-5568-4944-b365-f9de52de0543"
      },
      "execution_count": 16,
      "outputs": [
        {
          "output_type": "execute_result",
          "data": {
            "text/plain": [
              "array([[1., 0., 0., 0., 0.],\n",
              "       [0., 1., 0., 0., 0.],\n",
              "       [0., 0., 1., 0., 0.],\n",
              "       [0., 0., 0., 1., 0.],\n",
              "       [0., 0., 0., 0., 1.]])"
            ]
          },
          "metadata": {},
          "execution_count": 16
        }
      ]
    },
    {
      "cell_type": "markdown",
      "source": [
        "Reshape\n"
      ],
      "metadata": {
        "id": "5kEvFDrEyzpK"
      }
    },
    {
      "cell_type": "code",
      "source": [
        "arr = np.random.randint(1,10,(3,2))\n",
        "print(arr)\n",
        "print(arr.shape)\n",
        "print('Cambiando con reshape')\n",
        "print(arr.reshape(1,6))\n",
        "print('En  C')\n",
        "print(np.reshape(arr,(2,3), 'C'))\n",
        "print('En  Fortran')\n",
        "print(np.reshape(arr,(2,3), 'F'))"
      ],
      "metadata": {
        "id": "Y7QygDxwy2uq",
        "outputId": "625add73-2cdc-45c3-9fb2-c91a4ce531b4",
        "colab": {
          "base_uri": "https://localhost:8080/"
        }
      },
      "execution_count": 22,
      "outputs": [
        {
          "output_type": "stream",
          "name": "stdout",
          "text": [
            "[[6 6]\n",
            " [4 2]\n",
            " [3 5]]\n",
            "(3, 2)\n",
            "Cambiando con reshape\n",
            "[[6 6 4 2 3 5]]\n",
            "En  C\n",
            "[[6 6 4]\n",
            " [2 3 5]]\n",
            "En  Fortran\n",
            "[[6 3 2]\n",
            " [4 6 5]]\n"
          ]
        }
      ]
    }
  ]
}