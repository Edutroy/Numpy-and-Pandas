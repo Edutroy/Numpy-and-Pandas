{
  "nbformat": 4,
  "nbformat_minor": 0,
  "metadata": {
    "colab": {
      "provenance": [],
      "toc_visible": true,
      "authorship_tag": "ABX9TyNjfxYAVt9bySaRAezT1+b4",
      "include_colab_link": true
    },
    "kernelspec": {
      "name": "python3",
      "display_name": "Python 3"
    },
    "language_info": {
      "name": "python"
    }
  },
  "cells": [
    {
      "cell_type": "markdown",
      "metadata": {
        "id": "view-in-github",
        "colab_type": "text"
      },
      "source": [
        "<a href=\"https://colab.research.google.com/github/Edutroy/Numpy-and-Pandas/blob/main/NumpyII.ipynb\" target=\"_parent\"><img src=\"https://colab.research.google.com/assets/colab-badge.svg\" alt=\"Open In Colab\"/></a>"
      ]
    },
    {
      "cell_type": "markdown",
      "source": [
        "# **Inicio con NumPy**\n",
        "\n"
      ],
      "metadata": {
        "id": "GwjsgYArHAIn"
      }
    },
    {
      "cell_type": "code",
      "source": [
        "import numpy as np\n",
        "\n",
        "\n",
        "#generate some random data\n",
        "data=np.random.randn(3,3,2)\n",
        "print('Array random :')\n",
        "data\n"
      ],
      "metadata": {
        "colab": {
          "base_uri": "https://localhost:8080/"
        },
        "id": "2N2mv-PNIeAu",
        "outputId": "19059625-ad68-477c-86b2-5f020ff81804"
      },
      "execution_count": 26,
      "outputs": [
        {
          "output_type": "stream",
          "name": "stdout",
          "text": [
            "Array random :\n"
          ]
        },
        {
          "output_type": "execute_result",
          "data": {
            "text/plain": [
              "array([[[ 2.53696198,  0.06437189],\n",
              "        [ 0.5561876 ,  0.1590073 ],\n",
              "        [ 0.23897446,  1.09739413]],\n",
              "\n",
              "       [[ 1.77331381,  0.22467746],\n",
              "        [-0.82742978, -0.52248687],\n",
              "        [-2.88466005,  1.27160548]],\n",
              "\n",
              "       [[-0.38127137,  1.08579367],\n",
              "        [ 0.53360748,  1.09647011],\n",
              "        [ 1.07665634,  1.30881315]]])"
            ]
          },
          "metadata": {},
          "execution_count": 26
        }
      ]
    },
    {
      "cell_type": "code",
      "source": [
        "#amth operation with arrays\n",
        "data*10"
      ],
      "metadata": {
        "colab": {
          "base_uri": "https://localhost:8080/"
        },
        "id": "TgSxKetULY2_",
        "outputId": "ff1d032b-14ef-446d-b925-59b3e84999ec"
      },
      "execution_count": 16,
      "outputs": [
        {
          "output_type": "execute_result",
          "data": {
            "text/plain": [
              "array([[[ -4.79854759,   4.28109583],\n",
              "        [ -8.28080598,  18.60036619],\n",
              "        [ -7.33351001,   3.49352788]],\n",
              "\n",
              "       [[ -0.60876706,  -9.83224914],\n",
              "        [ -8.31288139, -16.21296336],\n",
              "        [ -1.18246045, -14.89913002]]])"
            ]
          },
          "metadata": {},
          "execution_count": 16
        }
      ]
    },
    {
      "cell_type": "markdown",
      "source": [
        "\n",
        "\n",
        "> Creating arrays\n",
        "\n"
      ],
      "metadata": {
        "id": "Vghr6ROAPatN"
      }
    },
    {
      "cell_type": "code",
      "source": [
        "lista =[1,2,3,4,5,6,7,8,9]\n",
        "lista\n",
        "arr = np.array(lista)\n",
        "arr\n",
        "type(arr)"
      ],
      "metadata": {
        "colab": {
          "base_uri": "https://localhost:8080/"
        },
        "id": "QfjnfiWRK-uf",
        "outputId": "52c7628f-46fc-4750-9277-b816c0525211"
      },
      "execution_count": null,
      "outputs": [
        {
          "output_type": "execute_result",
          "data": {
            "text/plain": [
              "numpy.ndarray"
            ]
          },
          "metadata": {},
          "execution_count": 20
        }
      ]
    },
    {
      "cell_type": "code",
      "source": [
        "data =[[1,2,3,4], [5,6,7,8]]\n",
        "arr2=np.array(data)\n",
        "arr2\n"
      ],
      "metadata": {
        "colab": {
          "base_uri": "https://localhost:8080/"
        },
        "id": "mN5funO3Thqb",
        "outputId": "2226a068-4c88-4e4a-e96b-6453d31d58c2"
      },
      "execution_count": null,
      "outputs": [
        {
          "output_type": "execute_result",
          "data": {
            "text/plain": [
              "array([[1, 2, 3, 4],\n",
              "       [5, 6, 7, 8]])"
            ]
          },
          "metadata": {},
          "execution_count": 36
        }
      ]
    },
    {
      "cell_type": "code",
      "source": [
        "data2 =[[[1,2,3,4], [5,6,7,8]] ,[[10,11,12,13], [14,15,16,17]]]\n",
        "arr3=np.array(data2)\n",
        "arr3\n"
      ],
      "metadata": {
        "colab": {
          "base_uri": "https://localhost:8080/"
        },
        "outputId": "e117fabe-b4aa-4ad0-da74-48218defc5be",
        "id": "TGErQjVfUWQG"
      },
      "execution_count": null,
      "outputs": [
        {
          "output_type": "execute_result",
          "data": {
            "text/plain": [
              "array([[[ 1,  2,  3,  4],\n",
              "        [ 5,  6,  7,  8]],\n",
              "\n",
              "       [[10, 11, 12, 13],\n",
              "        [14, 15, 16, 17]]])"
            ]
          },
          "metadata": {},
          "execution_count": 40
        }
      ]
    },
    {
      "cell_type": "markdown",
      "source": [
        "while array_name.dim we see:\n",
        "\n",
        "*(number of dimensions)*"
      ],
      "metadata": {
        "id": "HiEGa6vYTh5T"
      }
    },
    {
      "cell_type": "code",
      "source": [
        "print(arr2.ndim)\n",
        "arr3.ndim"
      ],
      "metadata": {
        "colab": {
          "base_uri": "https://localhost:8080/"
        },
        "id": "il1t2abaT39l",
        "outputId": "fbce561f-f188-4ab5-dba4-cad4f1cc933d"
      },
      "execution_count": null,
      "outputs": [
        {
          "output_type": "stream",
          "name": "stdout",
          "text": [
            "2\n"
          ]
        },
        {
          "output_type": "execute_result",
          "data": {
            "text/plain": [
              "3"
            ]
          },
          "metadata": {},
          "execution_count": 41
        }
      ]
    },
    {
      "cell_type": "markdown",
      "source": [
        "We see this with array-name.shape:\n",
        "\n",
        "*(row, colums)*\n",
        "\n"
      ],
      "metadata": {
        "id": "L4oaJiPTP3QD"
      }
    },
    {
      "cell_type": "code",
      "source": [
        "print(arr2.shape)\n",
        "arr3.shape"
      ],
      "metadata": {
        "colab": {
          "base_uri": "https://localhost:8080/"
        },
        "outputId": "febc56ef-8694-4425-c858-d33f895a4622",
        "id": "BlF2IgPfUoVu"
      },
      "execution_count": null,
      "outputs": [
        {
          "output_type": "stream",
          "name": "stdout",
          "text": [
            "(2, 4)\n"
          ]
        },
        {
          "output_type": "execute_result",
          "data": {
            "text/plain": [
              "(2, 2, 4)"
            ]
          },
          "metadata": {},
          "execution_count": 42
        }
      ]
    },
    {
      "cell_type": "markdown",
      "source": [
        ">Indexing"
      ],
      "metadata": {
        "id": "xsQ6UYTBfIls"
      }
    },
    {
      "cell_type": "code",
      "source": [
        "names =np.array()"
      ],
      "metadata": {
        "id": "9_ubeUzTfWor"
      },
      "execution_count": null,
      "outputs": []
    },
    {
      "cell_type": "markdown",
      "source": [
        "> Agreganndo y Eliminando dimensiones\n",
        "\n"
      ],
      "metadata": {
        "id": "8mOmRQEOVqo0"
      }
    },
    {
      "cell_type": "code",
      "source": [
        "vector = np.array([1, 2, 3,5,6,7], ndmin = 10)\n",
        "print(vector) \n",
        "vector.ndim "
      ],
      "metadata": {
        "colab": {
          "base_uri": "https://localhost:8080/"
        },
        "id": "u2HsmXROV9x8",
        "outputId": "a0bd863d-09fd-48d6-ceb0-d68735502c28"
      },
      "execution_count": null,
      "outputs": [
        {
          "output_type": "stream",
          "name": "stdout",
          "text": [
            "[[[[[[[[[[1 2 3 5 6 7]]]]]]]]]]\n"
          ]
        },
        {
          "output_type": "execute_result",
          "data": {
            "text/plain": [
              "10"
            ]
          },
          "metadata": {},
          "execution_count": 28
        }
      ]
    },
    {
      "cell_type": "code",
      "source": [
        "test=np.array([1, 2, 3])\n",
        "print(test)\n",
        "print(test.ndim) \n",
        "print(test.shape)\n",
        "print('################')\n",
        "expand = np.expand_dims( test , axis = 1)\n",
        "print(expand)\n",
        "print(expand.ndim) \n",
        "expand.shape"
      ],
      "metadata": {
        "colab": {
          "base_uri": "https://localhost:8080/"
        },
        "id": "WVRZnf-bYSbU",
        "outputId": "534e7233-b889-476d-a6ec-21f5dc0396d9"
      },
      "execution_count": null,
      "outputs": [
        {
          "output_type": "stream",
          "name": "stdout",
          "text": [
            "[1 2 3]\n",
            "1\n",
            "(3,)\n",
            "################\n",
            "[[1]\n",
            " [2]\n",
            " [3]]\n",
            "2\n"
          ]
        },
        {
          "output_type": "execute_result",
          "data": {
            "text/plain": [
              "(3, 1)"
            ]
          },
          "metadata": {},
          "execution_count": 39
        }
      ]
    },
    {
      "cell_type": "code",
      "source": [
        "print(vector, vector.ndim) \n",
        "vector_2 = np.squeeze(vector)#Elimina las dimesiones que no se utilizan\n",
        "print(vector_2, vector_2.ndim)"
      ],
      "metadata": {
        "colab": {
          "base_uri": "https://localhost:8080/"
        },
        "id": "K-jeD7FRczFi",
        "outputId": "192a56b8-2137-494e-b798-473279eabbea"
      },
      "execution_count": null,
      "outputs": [
        {
          "output_type": "stream",
          "name": "stdout",
          "text": [
            "[[[[[[[[[[1 2 3 5 6 7]]]]]]]]]] 10\n",
            "[1 2 3 5 6 7] 1\n"
          ]
        }
      ]
    },
    {
      "cell_type": "markdown",
      "source": [
        "Arrays\n"
      ],
      "metadata": {
        "id": "qsdn43vMaqSf"
      }
    },
    {
      "cell_type": "code",
      "source": [
        "print(np.arange(0,15))#crea un array desde las posionces indicadas\n",
        "np.arange(0,20,2)#los alterna dependiendo la cantiad que queramos"
      ],
      "metadata": {
        "colab": {
          "base_uri": "https://localhost:8080/"
        },
        "id": "tksCXmQpapkt",
        "outputId": "59e60e68-d4a1-43e6-d6a2-ddbcdba286b1"
      },
      "execution_count": 3,
      "outputs": [
        {
          "output_type": "stream",
          "name": "stdout",
          "text": [
            "[ 0  1  2  3  4  5  6  7  8  9 10 11 12 13 14]\n"
          ]
        },
        {
          "output_type": "execute_result",
          "data": {
            "text/plain": [
              "array([ 0,  2,  4,  6,  8, 10, 12, 14, 16, 18])"
            ]
          },
          "metadata": {},
          "execution_count": 3
        }
      ]
    },
    {
      "cell_type": "code",
      "source": [
        "print(np.zeros(10))\n",
        "np.ones((5,5))"
      ],
      "metadata": {
        "colab": {
          "base_uri": "https://localhost:8080/"
        },
        "id": "CBv7_XCjbYo4",
        "outputId": "27a22242-f255-472e-c06d-f6d85241369a"
      },
      "execution_count": 11,
      "outputs": [
        {
          "output_type": "stream",
          "name": "stdout",
          "text": [
            "[0. 0. 0. 0. 0. 0. 0. 0. 0. 0.]\n"
          ]
        },
        {
          "output_type": "execute_result",
          "data": {
            "text/plain": [
              "array([[1., 1., 1., 1., 1.],\n",
              "       [1., 1., 1., 1., 1.],\n",
              "       [1., 1., 1., 1., 1.],\n",
              "       [1., 1., 1., 1., 1.],\n",
              "       [1., 1., 1., 1., 1.]])"
            ]
          },
          "metadata": {},
          "execution_count": 11
        }
      ]
    },
    {
      "cell_type": "code",
      "source": [
        "np.eye(5)#crea matriz identidd"
      ],
      "metadata": {
        "colab": {
          "base_uri": "https://localhost:8080/"
        },
        "id": "OBHVFTqNbqtc",
        "outputId": "b3d36128-a774-443a-de4c-d9042ebb4161"
      },
      "execution_count": 12,
      "outputs": [
        {
          "output_type": "execute_result",
          "data": {
            "text/plain": [
              "array([[1., 0., 0., 0., 0.],\n",
              "       [0., 1., 0., 0., 0.],\n",
              "       [0., 0., 1., 0., 0.],\n",
              "       [0., 0., 0., 1., 0.],\n",
              "       [0., 0., 0., 0., 1.]])"
            ]
          },
          "metadata": {},
          "execution_count": 12
        }
      ]
    }
  ]
}